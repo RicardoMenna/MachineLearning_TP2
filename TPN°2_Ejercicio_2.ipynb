{
  "nbformat": 4,
  "nbformat_minor": 0,
  "metadata": {
    "colab": {
      "name": "TPN°2 Ejercicio 2.ipynb",
      "provenance": [],
      "collapsed_sections": [],
      "authorship_tag": "ABX9TyOc6BCGcNr1slFRm5E3D+FW",
      "include_colab_link": true
    },
    "kernelspec": {
      "name": "python3",
      "display_name": "Python 3"
    },
    "language_info": {
      "name": "python"
    }
  },
  "cells": [
    {
      "cell_type": "markdown",
      "metadata": {
        "id": "view-in-github",
        "colab_type": "text"
      },
      "source": [
        "<a href=\"https://colab.research.google.com/github/RicardoMenna/MachineLearning_TP2/blob/main/TPN%C2%B02_Ejercicio_2.ipynb\" target=\"_parent\"><img src=\"https://colab.research.google.com/assets/colab-badge.svg\" alt=\"Open In Colab\"/></a>"
      ]
    },
    {
      "cell_type": "markdown",
      "metadata": {
        "id": "AHOzGGth4_3q"
      },
      "source": [
        "# **Trabajo Práctico N°2**\n",
        "*Ejercicio 2: Generación Dataset y curva ROC*"
      ]
    },
    {
      "cell_type": "code",
      "metadata": {
        "id": "uz50SBOh5UNW"
      },
      "source": [
        "\"\"\"Importaciones\"\"\"\n",
        "import pandas as pd\n",
        "import matplotlib.pyplot as plt\n",
        "import numpy as np\n",
        "from tabulate import tabulate\n"
      ],
      "execution_count": null,
      "outputs": []
    },
    {
      "cell_type": "markdown",
      "metadata": {
        "id": "aHPiavB07CQz"
      },
      "source": [
        "Creo los conjuntos con distribución normal"
      ]
    },
    {
      "cell_type": "code",
      "metadata": {
        "id": "MTpYHGAP9KN-"
      },
      "source": [
        "\"\"\"Creación de dos conjuntos con distintos valores de media y desvío estandar\"\"\"\n",
        "n=50\n",
        "med_A = 3\n",
        "ds_A = 18\n",
        "med_B = 25\n",
        "ds_B = 11\n",
        "valores_A = np.random.normal(med_A,ds_A,n)\n",
        "valores_B = np.random.normal(med_B,ds_B,n)\n",
        "df_A = pd.DataFrame({\"Etiqueta\":\"A\", \"Valores\": valores_A})\n",
        "df_B = pd.DataFrame({\"Etiqueta\":\"B\", \"Valores\": valores_B})\n"
      ],
      "execution_count": null,
      "outputs": []
    },
    {
      "cell_type": "markdown",
      "metadata": {
        "id": "yuEI94czJ2i2"
      },
      "source": [
        "Grafico los datos de cada uno en un mismo gráfico\n"
      ]
    },
    {
      "cell_type": "code",
      "metadata": {
        "colab": {
          "base_uri": "https://localhost:8080/",
          "height": 282
        },
        "id": "syniYvK5SprC",
        "outputId": "ee9c302e-378a-40fe-d6d2-75a3b8a14f83"
      },
      "source": [
        "\"\"\"Se grafican los histogramas de ambos dataset\"\"\"\n",
        "plt.hist(df_A[\"Valores\"])\n",
        "plt.hist(df_B[\"Valores\"])\n",
        "plt.legend([\"A\",\"B\"])"
      ],
      "execution_count": null,
      "outputs": [
        {
          "output_type": "execute_result",
          "data": {
            "text/plain": [
              "<matplotlib.legend.Legend at 0x7f0a5f5b7910>"
            ]
          },
          "metadata": {},
          "execution_count": 120
        },
        {
          "output_type": "display_data",
          "data": {
            "image/png": "[encoded data removed]",
            "text/plain": [
              "<Figure size 432x288 with 1 Axes>"
            ]
          },
          "metadata": {
            "needs_background": "light"
          }
        }
      ]
    },
    {
      "cell_type": "markdown",
      "metadata": {
        "id": "ROG1snZTJmTM"
      },
      "source": [
        "Concateno y ordeno los datos en forma creciente según los valores"
      ]
    },
    {
      "cell_type": "code",
      "metadata": {
        "id": "jahbJpW4Jy9X"
      },
      "source": [
        "\"\"\"Concateno ambos DataFrames y ordeno en forma creciente\"\"\"\n",
        "df=pd.DataFrame(np.concatenate([df_A,df_B]),columns=[\"Etiqueta\",\"Valores\"])\n",
        "df = df.sort_values(\"Valores\")  #Ordeno los valores en forma creciente\n",
        "\n",
        "#Variables para las listas y el manejo de las mismas\n",
        "lista_x=[]\n",
        "lista_y=[]\n",
        "x=0\n",
        "y=0\n",
        "\n",
        "#LLenado de listas\n",
        "for i in range(len(df.Etiqueta)):\n",
        "  if df.iloc[i,0]==\"A\":\n",
        "    y=y+(1/50)\n",
        "  else:\n",
        "    x=x+(1/50)\n",
        "  lista_x.append(x)\n",
        "  lista_y.append(y)\n",
        "\n",
        "    "
      ],
      "execution_count": null,
      "outputs": []
    },
    {
      "cell_type": "markdown",
      "metadata": {
        "id": "MOgvux45cVMW"
      },
      "source": [
        "Luego de generar las listas correspondientes, grafico la curva ROC"
      ]
    },
    {
      "cell_type": "code",
      "metadata": {
        "colab": {
          "base_uri": "https://localhost:8080/",
          "height": 279
        },
        "id": "fw0z61decQGn",
        "outputId": "4f7d4dee-8ac1-43bc-8c6d-85e56e84a25b"
      },
      "source": [
        "\"\"\"Grafico la Curva ROC\"\"\"\n",
        "plt.figure()\n",
        "plt.plot(lista_x, lista_y, [0, 1.0], [0, 1.0])\n",
        "plt.legend([\"ROC\", \"Identidad\"])\n",
        "plt.xlabel(\"FPR\")\n",
        "plt.ylabel(\"TPR\")\n",
        "plt.show()"
      ],
      "execution_count": null,
      "outputs": [
        {
          "output_type": "display_data",
          "data": {
            "image/png": "[encoded data removed]",
            "text/plain": [
              "<Figure size 432x288 with 1 Axes>"
            ]
          },
          "metadata": {
            "needs_background": "light"
          }
        }
      ]
    },
    {
      "cell_type": "markdown",
      "metadata": {
        "id": "dwvEuTd8dTst"
      },
      "source": [
        "Luego calculo el punto que se encuentra a la mayor distancia entre la curva ROC y la identidad"
      ]
    },
    {
      "cell_type": "code",
      "metadata": {
        "colab": {
          "base_uri": "https://localhost:8080/",
          "height": 514
        },
        "id": "dGelQcr_dsjW",
        "outputId": "45294ba2-c824-4dce-b7c6-52a6fe8cb990"
      },
      "source": [
        "\"\"\"Cálculo del punto a mayor distancia\"\"\"\n",
        "#Calculo la distancia de todos los puntos a la recta identidad\n",
        "mayor_distancia = np.sqrt(np.abs(np.array(lista_x)-((np.array(lista_x)+np.array(lista_y))/2))+np.abs(np.array(lista_y)\n",
        "-((np.array(lista_x)+np.array(lista_y))/2)))\n",
        "\n",
        "#Hallo el lugar donde está la máxima distancia\n",
        "max_valor = max(mayor_distancia)\n",
        "[lugar_max_valor] = np.where(mayor_distancia == max_valor)\n",
        "\n",
        "#Elijo umbral y creo una nueva columna en el Dataframe\n",
        "valor_umbral =  df.iloc[lugar_max_valor[0],1]\n",
        "df[\"Predicción\"] = [\"A\" if df.iloc[i,1] < valor_umbral else \"B\" for i in range(len(df.Etiqueta))]\n",
        "df.sample(15)\n"
      ],
      "execution_count": null,
      "outputs": [
        {
          "output_type": "execute_result",
          "data": {
            "text/html": [
              "<div>\n",
              "<style scoped>\n",
              "    .dataframe tbody tr th:only-of-type {\n",
              "        vertical-align: middle;\n",
              "    }\n",
              "\n",
              "    .dataframe tbody tr th {\n",
              "        vertical-align: top;\n",
              "    }\n",
              "\n",
              "    .dataframe thead th {\n",
              "        text-align: right;\n",
              "    }\n",
              "</style>\n",
              "<table border=\"1\" class=\"dataframe\">\n",
              "  <thead>\n",
              "    <tr style=\"text-align: right;\">\n",
              "      <th></th>\n",
              "      <th>Etiqueta</th>\n",
              "      <th>Valores</th>\n",
              "      <th>Predicción</th>\n",
              "    </tr>\n",
              "  </thead>\n",
              "  <tbody>\n",
              "    <tr>\n",
              "      <th>98</th>\n",
              "      <td>B</td>\n",
              "      <td>40.5803</td>\n",
              "      <td>B</td>\n",
              "    </tr>\n",
              "    <tr>\n",
              "      <th>7</th>\n",
              "      <td>A</td>\n",
              "      <td>-19.4319</td>\n",
              "      <td>A</td>\n",
              "    </tr>\n",
              "    <tr>\n",
              "      <th>94</th>\n",
              "      <td>B</td>\n",
              "      <td>41.434</td>\n",
              "      <td>B</td>\n",
              "    </tr>\n",
              "    <tr>\n",
              "      <th>68</th>\n",
              "      <td>B</td>\n",
              "      <td>-1.43476</td>\n",
              "      <td>A</td>\n",
              "    </tr>\n",
              "    <tr>\n",
              "      <th>8</th>\n",
              "      <td>A</td>\n",
              "      <td>17.7034</td>\n",
              "      <td>B</td>\n",
              "    </tr>\n",
              "    <tr>\n",
              "      <th>96</th>\n",
              "      <td>B</td>\n",
              "      <td>18.4912</td>\n",
              "      <td>B</td>\n",
              "    </tr>\n",
              "    <tr>\n",
              "      <th>19</th>\n",
              "      <td>A</td>\n",
              "      <td>5.87417</td>\n",
              "      <td>A</td>\n",
              "    </tr>\n",
              "    <tr>\n",
              "      <th>41</th>\n",
              "      <td>A</td>\n",
              "      <td>-0.705842</td>\n",
              "      <td>A</td>\n",
              "    </tr>\n",
              "    <tr>\n",
              "      <th>1</th>\n",
              "      <td>A</td>\n",
              "      <td>2.42122</td>\n",
              "      <td>A</td>\n",
              "    </tr>\n",
              "    <tr>\n",
              "      <th>66</th>\n",
              "      <td>B</td>\n",
              "      <td>35.5385</td>\n",
              "      <td>B</td>\n",
              "    </tr>\n",
              "    <tr>\n",
              "      <th>57</th>\n",
              "      <td>B</td>\n",
              "      <td>14.5318</td>\n",
              "      <td>B</td>\n",
              "    </tr>\n",
              "    <tr>\n",
              "      <th>10</th>\n",
              "      <td>A</td>\n",
              "      <td>34.0055</td>\n",
              "      <td>B</td>\n",
              "    </tr>\n",
              "    <tr>\n",
              "      <th>44</th>\n",
              "      <td>A</td>\n",
              "      <td>-12.0878</td>\n",
              "      <td>A</td>\n",
              "    </tr>\n",
              "    <tr>\n",
              "      <th>72</th>\n",
              "      <td>B</td>\n",
              "      <td>15.305</td>\n",
              "      <td>B</td>\n",
              "    </tr>\n",
              "    <tr>\n",
              "      <th>52</th>\n",
              "      <td>B</td>\n",
              "      <td>9.81638</td>\n",
              "      <td>B</td>\n",
              "    </tr>\n",
              "  </tbody>\n",
              "</table>\n",
              "</div>"
            ],
            "text/plain": [
              "   Etiqueta   Valores Predicción\n",
              "98        B   40.5803          B\n",
              "7         A  -19.4319          A\n",
              "94        B    41.434          B\n",
              "68        B  -1.43476          A\n",
              "8         A   17.7034          B\n",
              "96        B   18.4912          B\n",
              "19        A   5.87417          A\n",
              "41        A -0.705842          A\n",
              "1         A   2.42122          A\n",
              "66        B   35.5385          B\n",
              "57        B   14.5318          B\n",
              "10        A   34.0055          B\n",
              "44        A  -12.0878          A\n",
              "72        B    15.305          B\n",
              "52        B   9.81638          B"
            ]
          },
          "metadata": {},
          "execution_count": 123
        }
      ]
    },
    {
      "cell_type": "markdown",
      "metadata": {
        "id": "Y8lz4ehHmukz"
      },
      "source": [
        "Se observa los errores y aciertos de la predicción"
      ]
    },
    {
      "cell_type": "code",
      "metadata": {
        "colab": {
          "base_uri": "https://localhost:8080/",
          "height": 514
        },
        "id": "qnROY-GOjLF5",
        "outputId": "e154da00-3199-497d-95c0-9bcc5fef5a3c"
      },
      "source": [
        "\"\"\"Se supone que A es negativo y B como positivo\"\"\"\n",
        "df[\"Error Tipo\"] = [\"FP\" if df.iloc[i,0]== \"A\" and df.iloc[i,2]==\"B\" else         #Falso positivo\n",
        "                    \"FN\" if df.iloc[i,0]== \"B\" and df.iloc[i,2]==\"A\" else         #Falso negativo\n",
        "                    \"TP\" if df.iloc[i,0]== \"B\" and df.iloc[i,2]==\"B\" else         #Verdadero positivo\n",
        "                    \"TN\" for i in range(len(df.Etiqueta))]                        #Verdadero negativo\n",
        "df.sample(15)"
      ],
      "execution_count": null,
      "outputs": [
        {
          "output_type": "execute_result",
          "data": {
            "text/html": [
              "<div>\n",
              "<style scoped>\n",
              "    .dataframe tbody tr th:only-of-type {\n",
              "        vertical-align: middle;\n",
              "    }\n",
              "\n",
              "    .dataframe tbody tr th {\n",
              "        vertical-align: top;\n",
              "    }\n",
              "\n",
              "    .dataframe thead th {\n",
              "        text-align: right;\n",
              "    }\n",
              "</style>\n",
              "<table border=\"1\" class=\"dataframe\">\n",
              "  <thead>\n",
              "    <tr style=\"text-align: right;\">\n",
              "      <th></th>\n",
              "      <th>Etiqueta</th>\n",
              "      <th>Valores</th>\n",
              "      <th>Predicción</th>\n",
              "      <th>Tipo de Error</th>\n",
              "      <th>Error Tipo</th>\n",
              "    </tr>\n",
              "  </thead>\n",
              "  <tbody>\n",
              "    <tr>\n",
              "      <th>95</th>\n",
              "      <td>B</td>\n",
              "      <td>13.4655</td>\n",
              "      <td>B</td>\n",
              "      <td>VP</td>\n",
              "      <td>TP</td>\n",
              "    </tr>\n",
              "    <tr>\n",
              "      <th>99</th>\n",
              "      <td>B</td>\n",
              "      <td>24.591</td>\n",
              "      <td>B</td>\n",
              "      <td>VP</td>\n",
              "      <td>TP</td>\n",
              "    </tr>\n",
              "    <tr>\n",
              "      <th>27</th>\n",
              "      <td>A</td>\n",
              "      <td>-4.6983</td>\n",
              "      <td>A</td>\n",
              "      <td>VN</td>\n",
              "      <td>TN</td>\n",
              "    </tr>\n",
              "    <tr>\n",
              "      <th>3</th>\n",
              "      <td>A</td>\n",
              "      <td>26.7171</td>\n",
              "      <td>B</td>\n",
              "      <td>FP</td>\n",
              "      <td>FP</td>\n",
              "    </tr>\n",
              "    <tr>\n",
              "      <th>34</th>\n",
              "      <td>A</td>\n",
              "      <td>-6.04994</td>\n",
              "      <td>A</td>\n",
              "      <td>VN</td>\n",
              "      <td>TN</td>\n",
              "    </tr>\n",
              "    <tr>\n",
              "      <th>87</th>\n",
              "      <td>B</td>\n",
              "      <td>7.20706</td>\n",
              "      <td>B</td>\n",
              "      <td>VP</td>\n",
              "      <td>TP</td>\n",
              "    </tr>\n",
              "    <tr>\n",
              "      <th>31</th>\n",
              "      <td>A</td>\n",
              "      <td>4.70913</td>\n",
              "      <td>A</td>\n",
              "      <td>VN</td>\n",
              "      <td>TN</td>\n",
              "    </tr>\n",
              "    <tr>\n",
              "      <th>49</th>\n",
              "      <td>A</td>\n",
              "      <td>2.78651</td>\n",
              "      <td>A</td>\n",
              "      <td>VN</td>\n",
              "      <td>TN</td>\n",
              "    </tr>\n",
              "    <tr>\n",
              "      <th>11</th>\n",
              "      <td>A</td>\n",
              "      <td>6.77183</td>\n",
              "      <td>A</td>\n",
              "      <td>VN</td>\n",
              "      <td>TN</td>\n",
              "    </tr>\n",
              "    <tr>\n",
              "      <th>82</th>\n",
              "      <td>B</td>\n",
              "      <td>40.1659</td>\n",
              "      <td>B</td>\n",
              "      <td>VP</td>\n",
              "      <td>TP</td>\n",
              "    </tr>\n",
              "    <tr>\n",
              "      <th>30</th>\n",
              "      <td>A</td>\n",
              "      <td>20.3077</td>\n",
              "      <td>B</td>\n",
              "      <td>FP</td>\n",
              "      <td>FP</td>\n",
              "    </tr>\n",
              "    <tr>\n",
              "      <th>37</th>\n",
              "      <td>A</td>\n",
              "      <td>-17.5778</td>\n",
              "      <td>A</td>\n",
              "      <td>VN</td>\n",
              "      <td>TN</td>\n",
              "    </tr>\n",
              "    <tr>\n",
              "      <th>6</th>\n",
              "      <td>A</td>\n",
              "      <td>6.44996</td>\n",
              "      <td>A</td>\n",
              "      <td>VN</td>\n",
              "      <td>TN</td>\n",
              "    </tr>\n",
              "    <tr>\n",
              "      <th>47</th>\n",
              "      <td>A</td>\n",
              "      <td>14.0167</td>\n",
              "      <td>B</td>\n",
              "      <td>FP</td>\n",
              "      <td>FP</td>\n",
              "    </tr>\n",
              "    <tr>\n",
              "      <th>83</th>\n",
              "      <td>B</td>\n",
              "      <td>11.5855</td>\n",
              "      <td>B</td>\n",
              "      <td>VP</td>\n",
              "      <td>TP</td>\n",
              "    </tr>\n",
              "  </tbody>\n",
              "</table>\n",
              "</div>"
            ],
            "text/plain": [
              "   Etiqueta  Valores Predicción Tipo de Error Error Tipo\n",
              "95        B  13.4655          B            VP         TP\n",
              "99        B   24.591          B            VP         TP\n",
              "27        A  -4.6983          A            VN         TN\n",
              "3         A  26.7171          B            FP         FP\n",
              "34        A -6.04994          A            VN         TN\n",
              "87        B  7.20706          B            VP         TP\n",
              "31        A  4.70913          A            VN         TN\n",
              "49        A  2.78651          A            VN         TN\n",
              "11        A  6.77183          A            VN         TN\n",
              "82        B  40.1659          B            VP         TP\n",
              "30        A  20.3077          B            FP         FP\n",
              "37        A -17.5778          A            VN         TN\n",
              "6         A  6.44996          A            VN         TN\n",
              "47        A  14.0167          B            FP         FP\n",
              "83        B  11.5855          B            VP         TP"
            ]
          },
          "metadata": {},
          "execution_count": 127
        }
      ]
    },
    {
      "cell_type": "markdown",
      "metadata": {
        "id": "i_vQJD_CnO90"
      },
      "source": [
        "Se calcula la relación que existe entre los resultados obtenidos y se muestra los resultados en una tabla"
      ]
    },
    {
      "cell_type": "code",
      "metadata": {
        "colab": {
          "base_uri": "https://localhost:8080/"
        },
        "id": "7cEAv0fgjQX5",
        "outputId": "3caef8c1-4d59-4002-bb58-8a73cdb380f3"
      },
      "source": [
        "fp, fn, tp, tn = [np.sum(df[\"Error Tipo\"] == i) for i in [\"FP\", \"FN\", \"TP\", \"TN\"]]\n",
        "\n",
        "TPR = tp/(tp+fn)\n",
        "FPR = fp/(fp+tn)\n",
        "PPV = tp/(tp+fp)\n",
        "f = 2*TPR*PPV/(TPR+PPV)\n",
        "\n",
        "resultados= [ [\"TPR\", np.round(TPR, 2), np.round(TPR*100, 2)],\n",
        "            [\"FPR\", np.round(FPR, 2), np.round(FPR*100, 0)],\n",
        "            [\"PPV\", np.round(PPV, 2), np.round(PPV*100, 0)],\n",
        "            [\"F\", np.round(f, 2), np.round(f*100, 0)]]\n",
        "print(tabulate(resultados, headers=[\"Tipo\", \"Probabilidad\", \"Porcentaje\"]))\n"
      ],
      "execution_count": null,
      "outputs": [
        {
          "output_type": "stream",
          "name": "stdout",
          "text": [
            "Tipo      Probabilidad    Porcentaje\n",
            "------  --------------  ------------\n",
            "TPR               0.98            98\n",
            "FPR               0.36            36\n",
            "PPV               0.73            73\n",
            "F                 0.84            84\n"
          ]
        }
      ]
    },
    {
      "cell_type": "markdown",
      "metadata": {
        "id": "u3WLZG5ipQ3q"
      },
      "source": [
        "**Observaciones**\n",
        "\n",
        "*   De manera relativamente sencilla se puede realizar un entrenamiento para tener una clasificación bastante buena.\n",
        "*   Dependiendo de los valores de media y dispersión va a variar el porcentaje de aciertos. A medida que estén más juntos, se tendrá un peor resultado.\n",
        "\n"
      ]
    }
  ]
}